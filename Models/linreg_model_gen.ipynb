{
  "cells": [
    {
      "attachments": {},
      "cell_type": "markdown",
      "metadata": {
        "id": "Mtf5REmBrcZS"
      },
      "source": [
        "#**Activity 4 - Part 2 and Part 3**\n",
        "Part #2: Linear Regression\n",
        "\n",
        "Part #3: Model Dumping \n",
        "\n",
        "***Group 4***\n",
        "\n",
        "*Fagarita, Dave*\n",
        "\n",
        "*Servandil, Jimuel*\n",
        "\n",
        "*Magno, Jannica Mae*\n",
        "\n",
        "*Catanus, Jeziah Lois*"
      ]
    },
    {
      "cell_type": "code",
      "execution_count": 66,
      "metadata": {
        "id": "v802SOLmrGxk"
      },
      "outputs": [],
      "source": [
        "import pandas as pd\n",
        "import numpy as np\n",
        "import re"
      ]
    },
    {
      "cell_type": "code",
      "execution_count": 67,
      "metadata": {
        "colab": {
          "base_uri": "https://localhost:8080/",
          "height": 904
        },
        "id": "92o5soHO1opT",
        "outputId": "651119c6-496e-4612-f6ff-2df415a98cc2"
      },
      "outputs": [
        {
          "data": {
            "text/html": [
              "<div>\n",
              "<style scoped>\n",
              "    .dataframe tbody tr th:only-of-type {\n",
              "        vertical-align: middle;\n",
              "    }\n",
              "\n",
              "    .dataframe tbody tr th {\n",
              "        vertical-align: top;\n",
              "    }\n",
              "\n",
              "    .dataframe thead th {\n",
              "        text-align: right;\n",
              "    }\n",
              "</style>\n",
              "<table border=\"1\" class=\"dataframe\">\n",
              "  <thead>\n",
              "    <tr style=\"text-align: right;\">\n",
              "      <th></th>\n",
              "      <th>Job</th>\n",
              "      <th>Location</th>\n",
              "      <th>Salary</th>\n",
              "      <th>Experience</th>\n",
              "      <th>Job_Pos</th>\n",
              "    </tr>\n",
              "  </thead>\n",
              "  <tbody>\n",
              "    <tr>\n",
              "      <th>0</th>\n",
              "      <td>Junior Graphics Designer</td>\n",
              "      <td>Remote</td>\n",
              "      <td>Php20,000.00  -Php30,000.00</td>\n",
              "      <td>At least 1 year</td>\n",
              "      <td>Junior</td>\n",
              "    </tr>\n",
              "    <tr>\n",
              "      <th>1</th>\n",
              "      <td>Junior Product Designer</td>\n",
              "      <td>Philippines</td>\n",
              "      <td>PHP30K</td>\n",
              "      <td>1-2 years</td>\n",
              "      <td>Junior</td>\n",
              "    </tr>\n",
              "    <tr>\n",
              "      <th>2</th>\n",
              "      <td>Junior Services Developer - Javascript (100% R...</td>\n",
              "      <td>Remote</td>\n",
              "      <td>PHP 32,000 - PHP 57,000</td>\n",
              "      <td>20 years</td>\n",
              "      <td>Junior</td>\n",
              "    </tr>\n",
              "    <tr>\n",
              "      <th>3</th>\n",
              "      <td>Junior Software Engineers</td>\n",
              "      <td>Remote in Makati</td>\n",
              "      <td>NaN</td>\n",
              "      <td>Minimum 1-2 years</td>\n",
              "      <td>Junior</td>\n",
              "    </tr>\n",
              "    <tr>\n",
              "      <th>4</th>\n",
              "      <td>Junior Enterprise Growth Consultant (Work From...</td>\n",
              "      <td>Remote</td>\n",
              "      <td>Php50,000.00  -Php70,000.00</td>\n",
              "      <td>Minimum 1-2 years</td>\n",
              "      <td>Junior</td>\n",
              "    </tr>\n",
              "    <tr>\n",
              "      <th>...</th>\n",
              "      <td>...</td>\n",
              "      <td>...</td>\n",
              "      <td>...</td>\n",
              "      <td>...</td>\n",
              "      <td>...</td>\n",
              "    </tr>\n",
              "    <tr>\n",
              "      <th>295</th>\n",
              "      <td>Chief Technology Officer | Flexible Shift - Pe...</td>\n",
              "      <td>Remote in Makati</td>\n",
              "      <td>Php150,000.00  -Php200,000.00</td>\n",
              "      <td>5 years</td>\n",
              "      <td>CTO</td>\n",
              "    </tr>\n",
              "    <tr>\n",
              "      <th>296</th>\n",
              "      <td>Senior Web Developer</td>\n",
              "      <td>Remote in Manila</td>\n",
              "      <td>Php80,000.00  -Php100,000.00</td>\n",
              "      <td>NaN</td>\n",
              "      <td>CTO</td>\n",
              "    </tr>\n",
              "    <tr>\n",
              "      <th>297</th>\n",
              "      <td>HEAD OF THE SOFTWARE DEVELOPMENT TEAM</td>\n",
              "      <td>Taguig</td>\n",
              "      <td>Php150,000.00  -Php200,000.00</td>\n",
              "      <td>7 years</td>\n",
              "      <td>CTO</td>\n",
              "    </tr>\n",
              "    <tr>\n",
              "      <th>298</th>\n",
              "      <td>Chief Technology Officer</td>\n",
              "      <td>Taguig</td>\n",
              "      <td>NaN</td>\n",
              "      <td>NaN</td>\n",
              "      <td>CTO</td>\n",
              "    </tr>\n",
              "    <tr>\n",
              "      <th>299</th>\n",
              "      <td>Chief Technology Officer (CTO)</td>\n",
              "      <td>Makati</td>\n",
              "      <td>P160K</td>\n",
              "      <td>5 years</td>\n",
              "      <td>CTO</td>\n",
              "    </tr>\n",
              "  </tbody>\n",
              "</table>\n",
              "<p>300 rows × 5 columns</p>\n",
              "</div>"
            ],
            "text/plain": [
              "                                                   Job          Location  \\\n",
              "0                             Junior Graphics Designer            Remote   \n",
              "1                              Junior Product Designer       Philippines   \n",
              "2    Junior Services Developer - Javascript (100% R...            Remote   \n",
              "3                            Junior Software Engineers  Remote in Makati   \n",
              "4    Junior Enterprise Growth Consultant (Work From...            Remote   \n",
              "..                                                 ...               ...   \n",
              "295  Chief Technology Officer | Flexible Shift - Pe...  Remote in Makati   \n",
              "296                               Senior Web Developer  Remote in Manila   \n",
              "297              HEAD OF THE SOFTWARE DEVELOPMENT TEAM            Taguig   \n",
              "298                           Chief Technology Officer            Taguig   \n",
              "299                     Chief Technology Officer (CTO)            Makati   \n",
              "\n",
              "                             Salary         Experience Job_Pos  \n",
              "0      Php20,000.00  -Php30,000.00     At least 1 year  Junior  \n",
              "1                            PHP30K          1-2 years  Junior  \n",
              "2           PHP 32,000 - PHP 57,000           20 years  Junior  \n",
              "3                               NaN  Minimum 1-2 years  Junior  \n",
              "4      Php50,000.00  -Php70,000.00   Minimum 1-2 years  Junior  \n",
              "..                              ...                ...     ...  \n",
              "295  Php150,000.00  -Php200,000.00             5 years     CTO  \n",
              "296   Php80,000.00  -Php100,000.00                 NaN     CTO  \n",
              "297  Php150,000.00  -Php200,000.00             7 years     CTO  \n",
              "298                             NaN                NaN     CTO  \n",
              "299                           P160K            5 years     CTO  \n",
              "\n",
              "[300 rows x 5 columns]"
            ]
          },
          "execution_count": 67,
          "metadata": {},
          "output_type": "execute_result"
        }
      ],
      "source": [
        "# Read the CSV file that was scraped from indeed page \n",
        "df = pd.read_csv('Job_data.csv')\n",
        "df"
      ]
    },
    {
      "attachments": {},
      "cell_type": "markdown",
      "metadata": {
        "id": "7eXdXcMGK8cn"
      },
      "source": [
        "# **Data Preprocessing**\n",
        "Employing data cleaning process in data mining for normalizing and making the scraped data consistent, and makit it free from noise, outliers, and null values."
      ]
    },
    {
      "attachments": {},
      "cell_type": "markdown",
      "metadata": {
        "id": "zP-nhCjILBAX"
      },
      "source": [
        "**Salary data preprocessing**"
      ]
    },
    {
      "cell_type": "code",
      "execution_count": 68,
      "metadata": {
        "colab": {
          "base_uri": "https://localhost:8080/"
        },
        "id": "-o_2Ku4_rMRR",
        "outputId": "2e63b336-9839-4bec-86d9-8c9346b396fd"
      },
      "outputs": [
        {
          "name": "stderr",
          "output_type": "stream",
          "text": [
            "C:\\Users\\Ayooo\\AppData\\Local\\Temp\\ipykernel_14828\\2756910847.py:3: FutureWarning: The default value of regex will change from True to False in a future version.\n",
            "  df['Salary'] = df['Salary'].str.replace('K.*', 'K')\n",
            "C:\\Users\\Ayooo\\AppData\\Local\\Temp\\ipykernel_14828\\2756910847.py:8: FutureWarning: The default value of regex will change from True to False in a future version.\n",
            "  df['Salary'] = df['Salary'].str.replace(r'(\\d+)(\\d{6})', r'\\1-\\2')\n"
          ]
        }
      ],
      "source": [
        "# Since the scraped data have inconsistent currency indicator, there is a need for transformation.\n",
        "# Scraped Salaries are in monthly format and luckily, all data are set by monthly.\n",
        "df['Salary'] = df['Salary'].str.replace('K.*', 'K')\n",
        "df['Salary'] = df['Salary'].str.replace('K', '000')\n",
        "df['Salary'] = df['Salary'].str.replace(r'(Php.*?){3}', r'\\1', regex=True)\n",
        "df['Salary'] = df['Salary'].str.replace('[^-\\d,.]', '', regex=True)\n",
        "df['Salary'] = df['Salary'].str.replace(',', '')\n",
        "df['Salary'] = df['Salary'].str.replace(r'(\\d+)(\\d{6})', r'\\1-\\2')\n",
        "\n",
        "# Split the Salary column into two separate columns for extracting the range values\n",
        "df[['Lower Salary', 'Upper Salary']] = df['Salary'].str.split('-', expand=True)\n",
        "\n",
        "# Convert the Lower Salary and Upper Salary columns to float data type for consistent data type\n",
        "df['Lower Salary'] = df['Lower Salary'].str.strip().replace('', 0).astype(float)\n",
        "df['Upper Salary'] = df['Upper Salary'].str.strip().replace('', 0).astype(float)\n",
        "\n",
        "# Filling null values with temporary placeholder in order to get the average of ranged values\n",
        "df['Lower Salary'] = df['Lower Salary'].fillna(0)\n",
        "df['Upper Salary'] = df['Upper Salary'].fillna(0)\n",
        "\n",
        "# Check if either Lower Salary or Upper Salary is 0\n",
        "mask = (df['Lower Salary'] == 0) | (df['Upper Salary'] == 0)\n",
        "\n",
        "# Create new column named new salary to calculate the ranged values\n",
        "df['New Salary'] = np.where(mask, df['Lower Salary'] + df['Upper Salary'], (df['Lower Salary'] + df['Upper Salary']) / 2)"
      ]
    },
    {
      "cell_type": "code",
      "execution_count": 69,
      "metadata": {
        "colab": {
          "base_uri": "https://localhost:8080/",
          "height": 921
        },
        "id": "L7Y_99NIjAZC",
        "outputId": "78ec8ac7-0765-4c17-97b1-8b01524c9453"
      },
      "outputs": [
        {
          "data": {
            "text/html": [
              "<div>\n",
              "<style scoped>\n",
              "    .dataframe tbody tr th:only-of-type {\n",
              "        vertical-align: middle;\n",
              "    }\n",
              "\n",
              "    .dataframe tbody tr th {\n",
              "        vertical-align: top;\n",
              "    }\n",
              "\n",
              "    .dataframe thead th {\n",
              "        text-align: right;\n",
              "    }\n",
              "</style>\n",
              "<table border=\"1\" class=\"dataframe\">\n",
              "  <thead>\n",
              "    <tr style=\"text-align: right;\">\n",
              "      <th></th>\n",
              "      <th>Job</th>\n",
              "      <th>Location</th>\n",
              "      <th>Salary</th>\n",
              "      <th>Experience</th>\n",
              "      <th>Job_Pos</th>\n",
              "      <th>Lower Salary</th>\n",
              "      <th>Upper Salary</th>\n",
              "      <th>New Salary</th>\n",
              "    </tr>\n",
              "  </thead>\n",
              "  <tbody>\n",
              "    <tr>\n",
              "      <th>0</th>\n",
              "      <td>Junior Graphics Designer</td>\n",
              "      <td>Remote</td>\n",
              "      <td>20000.00-30000.00</td>\n",
              "      <td>At least 1 year</td>\n",
              "      <td>Junior</td>\n",
              "      <td>20000.0</td>\n",
              "      <td>30000.0</td>\n",
              "      <td>25000.0</td>\n",
              "    </tr>\n",
              "    <tr>\n",
              "      <th>1</th>\n",
              "      <td>Junior Product Designer</td>\n",
              "      <td>Philippines</td>\n",
              "      <td>30000</td>\n",
              "      <td>1-2 years</td>\n",
              "      <td>Junior</td>\n",
              "      <td>30000.0</td>\n",
              "      <td>0.0</td>\n",
              "      <td>30000.0</td>\n",
              "    </tr>\n",
              "    <tr>\n",
              "      <th>2</th>\n",
              "      <td>Junior Services Developer - Javascript (100% R...</td>\n",
              "      <td>Remote</td>\n",
              "      <td>32000-57000</td>\n",
              "      <td>20 years</td>\n",
              "      <td>Junior</td>\n",
              "      <td>32000.0</td>\n",
              "      <td>57000.0</td>\n",
              "      <td>44500.0</td>\n",
              "    </tr>\n",
              "    <tr>\n",
              "      <th>3</th>\n",
              "      <td>Junior Software Engineers</td>\n",
              "      <td>Remote in Makati</td>\n",
              "      <td>NaN</td>\n",
              "      <td>Minimum 1-2 years</td>\n",
              "      <td>Junior</td>\n",
              "      <td>0.0</td>\n",
              "      <td>0.0</td>\n",
              "      <td>0.0</td>\n",
              "    </tr>\n",
              "    <tr>\n",
              "      <th>4</th>\n",
              "      <td>Junior Enterprise Growth Consultant (Work From...</td>\n",
              "      <td>Remote</td>\n",
              "      <td>50000.00-70000.00</td>\n",
              "      <td>Minimum 1-2 years</td>\n",
              "      <td>Junior</td>\n",
              "      <td>50000.0</td>\n",
              "      <td>70000.0</td>\n",
              "      <td>60000.0</td>\n",
              "    </tr>\n",
              "    <tr>\n",
              "      <th>...</th>\n",
              "      <td>...</td>\n",
              "      <td>...</td>\n",
              "      <td>...</td>\n",
              "      <td>...</td>\n",
              "      <td>...</td>\n",
              "      <td>...</td>\n",
              "      <td>...</td>\n",
              "      <td>...</td>\n",
              "    </tr>\n",
              "    <tr>\n",
              "      <th>295</th>\n",
              "      <td>Chief Technology Officer | Flexible Shift - Pe...</td>\n",
              "      <td>Remote in Makati</td>\n",
              "      <td>150000.00-200000.00</td>\n",
              "      <td>5 years</td>\n",
              "      <td>CTO</td>\n",
              "      <td>150000.0</td>\n",
              "      <td>200000.0</td>\n",
              "      <td>175000.0</td>\n",
              "    </tr>\n",
              "    <tr>\n",
              "      <th>296</th>\n",
              "      <td>Senior Web Developer</td>\n",
              "      <td>Remote in Manila</td>\n",
              "      <td>80000.00-100000.00</td>\n",
              "      <td>NaN</td>\n",
              "      <td>CTO</td>\n",
              "      <td>80000.0</td>\n",
              "      <td>100000.0</td>\n",
              "      <td>90000.0</td>\n",
              "    </tr>\n",
              "    <tr>\n",
              "      <th>297</th>\n",
              "      <td>HEAD OF THE SOFTWARE DEVELOPMENT TEAM</td>\n",
              "      <td>Taguig</td>\n",
              "      <td>150000.00-200000.00</td>\n",
              "      <td>7 years</td>\n",
              "      <td>CTO</td>\n",
              "      <td>150000.0</td>\n",
              "      <td>200000.0</td>\n",
              "      <td>175000.0</td>\n",
              "    </tr>\n",
              "    <tr>\n",
              "      <th>298</th>\n",
              "      <td>Chief Technology Officer</td>\n",
              "      <td>Taguig</td>\n",
              "      <td>NaN</td>\n",
              "      <td>NaN</td>\n",
              "      <td>CTO</td>\n",
              "      <td>0.0</td>\n",
              "      <td>0.0</td>\n",
              "      <td>0.0</td>\n",
              "    </tr>\n",
              "    <tr>\n",
              "      <th>299</th>\n",
              "      <td>Chief Technology Officer (CTO)</td>\n",
              "      <td>Makati</td>\n",
              "      <td>160000</td>\n",
              "      <td>5 years</td>\n",
              "      <td>CTO</td>\n",
              "      <td>160000.0</td>\n",
              "      <td>0.0</td>\n",
              "      <td>160000.0</td>\n",
              "    </tr>\n",
              "  </tbody>\n",
              "</table>\n",
              "<p>300 rows × 8 columns</p>\n",
              "</div>"
            ],
            "text/plain": [
              "                                                   Job          Location  \\\n",
              "0                             Junior Graphics Designer            Remote   \n",
              "1                              Junior Product Designer       Philippines   \n",
              "2    Junior Services Developer - Javascript (100% R...            Remote   \n",
              "3                            Junior Software Engineers  Remote in Makati   \n",
              "4    Junior Enterprise Growth Consultant (Work From...            Remote   \n",
              "..                                                 ...               ...   \n",
              "295  Chief Technology Officer | Flexible Shift - Pe...  Remote in Makati   \n",
              "296                               Senior Web Developer  Remote in Manila   \n",
              "297              HEAD OF THE SOFTWARE DEVELOPMENT TEAM            Taguig   \n",
              "298                           Chief Technology Officer            Taguig   \n",
              "299                     Chief Technology Officer (CTO)            Makati   \n",
              "\n",
              "                  Salary         Experience Job_Pos  Lower Salary  \\\n",
              "0      20000.00-30000.00    At least 1 year  Junior       20000.0   \n",
              "1                  30000          1-2 years  Junior       30000.0   \n",
              "2            32000-57000           20 years  Junior       32000.0   \n",
              "3                    NaN  Minimum 1-2 years  Junior           0.0   \n",
              "4      50000.00-70000.00  Minimum 1-2 years  Junior       50000.0   \n",
              "..                   ...                ...     ...           ...   \n",
              "295  150000.00-200000.00            5 years     CTO      150000.0   \n",
              "296   80000.00-100000.00                NaN     CTO       80000.0   \n",
              "297  150000.00-200000.00            7 years     CTO      150000.0   \n",
              "298                  NaN                NaN     CTO           0.0   \n",
              "299               160000            5 years     CTO      160000.0   \n",
              "\n",
              "     Upper Salary  New Salary  \n",
              "0         30000.0     25000.0  \n",
              "1             0.0     30000.0  \n",
              "2         57000.0     44500.0  \n",
              "3             0.0         0.0  \n",
              "4         70000.0     60000.0  \n",
              "..            ...         ...  \n",
              "295      200000.0    175000.0  \n",
              "296      100000.0     90000.0  \n",
              "297      200000.0    175000.0  \n",
              "298           0.0         0.0  \n",
              "299           0.0    160000.0  \n",
              "\n",
              "[300 rows x 8 columns]"
            ]
          },
          "execution_count": 69,
          "metadata": {},
          "output_type": "execute_result"
        }
      ],
      "source": [
        "df"
      ]
    },
    {
      "attachments": {},
      "cell_type": "markdown",
      "metadata": {
        "id": "lL4ff-0mLK10"
      },
      "source": [
        "**Experience data preprocessing**"
      ]
    },
    {
      "cell_type": "code",
      "execution_count": 70,
      "metadata": {
        "id": "0T7xt6wer4D-"
      },
      "outputs": [],
      "source": [
        "# We will remove non-numeric characters from the 'Experience' column\n",
        "df['Experience'] = df['Experience'].str.replace('[^-\\d,.]', '', regex=True)\n",
        "\n",
        "# Then, calculate the average of the minimum and maximum values\n",
        "df['Experience'] = df['Experience'].str.split('-', expand=True).apply(pd.to_numeric).mean(axis=1)"
      ]
    },
    {
      "attachments": {},
      "cell_type": "markdown",
      "metadata": {
        "id": "xj-JqVCDLTMb"
      },
      "source": [
        " **Position/Job Preprocessing**"
      ]
    },
    {
      "cell_type": "code",
      "execution_count": 71,
      "metadata": {
        "id": "7u2CdG2vrU1P"
      },
      "outputs": [],
      "source": [
        "# Changing the categorical values in Position column into numerical format\n",
        "df['Job_Pos'] = df['Job_Pos'].map({'Junior': 1, 'Senior': 2, 'Project+Manager': 3, 'CTO': 4})"
      ]
    },
    {
      "cell_type": "code",
      "execution_count": 72,
      "metadata": {
        "colab": {
          "base_uri": "https://localhost:8080/",
          "height": 921
        },
        "id": "iPIyU3CK_UnO",
        "outputId": "aa1149dc-45a6-47d8-b981-d8b76dedbcd8"
      },
      "outputs": [
        {
          "data": {
            "text/html": [
              "<div>\n",
              "<style scoped>\n",
              "    .dataframe tbody tr th:only-of-type {\n",
              "        vertical-align: middle;\n",
              "    }\n",
              "\n",
              "    .dataframe tbody tr th {\n",
              "        vertical-align: top;\n",
              "    }\n",
              "\n",
              "    .dataframe thead th {\n",
              "        text-align: right;\n",
              "    }\n",
              "</style>\n",
              "<table border=\"1\" class=\"dataframe\">\n",
              "  <thead>\n",
              "    <tr style=\"text-align: right;\">\n",
              "      <th></th>\n",
              "      <th>Job</th>\n",
              "      <th>Location</th>\n",
              "      <th>Salary</th>\n",
              "      <th>Experience</th>\n",
              "      <th>Job_Pos</th>\n",
              "      <th>Lower Salary</th>\n",
              "      <th>Upper Salary</th>\n",
              "      <th>New Salary</th>\n",
              "    </tr>\n",
              "  </thead>\n",
              "  <tbody>\n",
              "    <tr>\n",
              "      <th>0</th>\n",
              "      <td>Junior Graphics Designer</td>\n",
              "      <td>Remote</td>\n",
              "      <td>20000.00-30000.00</td>\n",
              "      <td>1.0</td>\n",
              "      <td>1</td>\n",
              "      <td>20000.0</td>\n",
              "      <td>30000.0</td>\n",
              "      <td>25000.0</td>\n",
              "    </tr>\n",
              "    <tr>\n",
              "      <th>1</th>\n",
              "      <td>Junior Product Designer</td>\n",
              "      <td>Philippines</td>\n",
              "      <td>30000</td>\n",
              "      <td>1.5</td>\n",
              "      <td>1</td>\n",
              "      <td>30000.0</td>\n",
              "      <td>0.0</td>\n",
              "      <td>30000.0</td>\n",
              "    </tr>\n",
              "    <tr>\n",
              "      <th>2</th>\n",
              "      <td>Junior Services Developer - Javascript (100% R...</td>\n",
              "      <td>Remote</td>\n",
              "      <td>32000-57000</td>\n",
              "      <td>20.0</td>\n",
              "      <td>1</td>\n",
              "      <td>32000.0</td>\n",
              "      <td>57000.0</td>\n",
              "      <td>44500.0</td>\n",
              "    </tr>\n",
              "    <tr>\n",
              "      <th>3</th>\n",
              "      <td>Junior Software Engineers</td>\n",
              "      <td>Remote in Makati</td>\n",
              "      <td>NaN</td>\n",
              "      <td>1.5</td>\n",
              "      <td>1</td>\n",
              "      <td>0.0</td>\n",
              "      <td>0.0</td>\n",
              "      <td>0.0</td>\n",
              "    </tr>\n",
              "    <tr>\n",
              "      <th>4</th>\n",
              "      <td>Junior Enterprise Growth Consultant (Work From...</td>\n",
              "      <td>Remote</td>\n",
              "      <td>50000.00-70000.00</td>\n",
              "      <td>1.5</td>\n",
              "      <td>1</td>\n",
              "      <td>50000.0</td>\n",
              "      <td>70000.0</td>\n",
              "      <td>60000.0</td>\n",
              "    </tr>\n",
              "    <tr>\n",
              "      <th>...</th>\n",
              "      <td>...</td>\n",
              "      <td>...</td>\n",
              "      <td>...</td>\n",
              "      <td>...</td>\n",
              "      <td>...</td>\n",
              "      <td>...</td>\n",
              "      <td>...</td>\n",
              "      <td>...</td>\n",
              "    </tr>\n",
              "    <tr>\n",
              "      <th>295</th>\n",
              "      <td>Chief Technology Officer | Flexible Shift - Pe...</td>\n",
              "      <td>Remote in Makati</td>\n",
              "      <td>150000.00-200000.00</td>\n",
              "      <td>5.0</td>\n",
              "      <td>4</td>\n",
              "      <td>150000.0</td>\n",
              "      <td>200000.0</td>\n",
              "      <td>175000.0</td>\n",
              "    </tr>\n",
              "    <tr>\n",
              "      <th>296</th>\n",
              "      <td>Senior Web Developer</td>\n",
              "      <td>Remote in Manila</td>\n",
              "      <td>80000.00-100000.00</td>\n",
              "      <td>NaN</td>\n",
              "      <td>4</td>\n",
              "      <td>80000.0</td>\n",
              "      <td>100000.0</td>\n",
              "      <td>90000.0</td>\n",
              "    </tr>\n",
              "    <tr>\n",
              "      <th>297</th>\n",
              "      <td>HEAD OF THE SOFTWARE DEVELOPMENT TEAM</td>\n",
              "      <td>Taguig</td>\n",
              "      <td>150000.00-200000.00</td>\n",
              "      <td>7.0</td>\n",
              "      <td>4</td>\n",
              "      <td>150000.0</td>\n",
              "      <td>200000.0</td>\n",
              "      <td>175000.0</td>\n",
              "    </tr>\n",
              "    <tr>\n",
              "      <th>298</th>\n",
              "      <td>Chief Technology Officer</td>\n",
              "      <td>Taguig</td>\n",
              "      <td>NaN</td>\n",
              "      <td>NaN</td>\n",
              "      <td>4</td>\n",
              "      <td>0.0</td>\n",
              "      <td>0.0</td>\n",
              "      <td>0.0</td>\n",
              "    </tr>\n",
              "    <tr>\n",
              "      <th>299</th>\n",
              "      <td>Chief Technology Officer (CTO)</td>\n",
              "      <td>Makati</td>\n",
              "      <td>160000</td>\n",
              "      <td>5.0</td>\n",
              "      <td>4</td>\n",
              "      <td>160000.0</td>\n",
              "      <td>0.0</td>\n",
              "      <td>160000.0</td>\n",
              "    </tr>\n",
              "  </tbody>\n",
              "</table>\n",
              "<p>300 rows × 8 columns</p>\n",
              "</div>"
            ],
            "text/plain": [
              "                                                   Job          Location  \\\n",
              "0                             Junior Graphics Designer            Remote   \n",
              "1                              Junior Product Designer       Philippines   \n",
              "2    Junior Services Developer - Javascript (100% R...            Remote   \n",
              "3                            Junior Software Engineers  Remote in Makati   \n",
              "4    Junior Enterprise Growth Consultant (Work From...            Remote   \n",
              "..                                                 ...               ...   \n",
              "295  Chief Technology Officer | Flexible Shift - Pe...  Remote in Makati   \n",
              "296                               Senior Web Developer  Remote in Manila   \n",
              "297              HEAD OF THE SOFTWARE DEVELOPMENT TEAM            Taguig   \n",
              "298                           Chief Technology Officer            Taguig   \n",
              "299                     Chief Technology Officer (CTO)            Makati   \n",
              "\n",
              "                  Salary  Experience  Job_Pos  Lower Salary  Upper Salary  \\\n",
              "0      20000.00-30000.00         1.0        1       20000.0       30000.0   \n",
              "1                  30000         1.5        1       30000.0           0.0   \n",
              "2            32000-57000        20.0        1       32000.0       57000.0   \n",
              "3                    NaN         1.5        1           0.0           0.0   \n",
              "4      50000.00-70000.00         1.5        1       50000.0       70000.0   \n",
              "..                   ...         ...      ...           ...           ...   \n",
              "295  150000.00-200000.00         5.0        4      150000.0      200000.0   \n",
              "296   80000.00-100000.00         NaN        4       80000.0      100000.0   \n",
              "297  150000.00-200000.00         7.0        4      150000.0      200000.0   \n",
              "298                  NaN         NaN        4           0.0           0.0   \n",
              "299               160000         5.0        4      160000.0           0.0   \n",
              "\n",
              "     New Salary  \n",
              "0       25000.0  \n",
              "1       30000.0  \n",
              "2       44500.0  \n",
              "3           0.0  \n",
              "4       60000.0  \n",
              "..          ...  \n",
              "295    175000.0  \n",
              "296     90000.0  \n",
              "297    175000.0  \n",
              "298         0.0  \n",
              "299    160000.0  \n",
              "\n",
              "[300 rows x 8 columns]"
            ]
          },
          "execution_count": 72,
          "metadata": {},
          "output_type": "execute_result"
        }
      ],
      "source": [
        "# Check the initial preprocessed data by displaying the columns\n",
        "slice_df = df\n",
        "slice_df"
      ]
    },
    {
      "attachments": {},
      "cell_type": "markdown",
      "metadata": {
        "id": "92LDAMpbKSnz"
      },
      "source": [
        "## **Remove Outliers**"
      ]
    },
    {
      "cell_type": "code",
      "execution_count": 73,
      "metadata": {
        "id": "cw0iTm3siIzF"
      },
      "outputs": [],
      "source": [
        "#Initial removal of outliers\n",
        "def remove_outliers(df, column_name):\n",
        "    # Calculate the IQR and bounds for the specified column\n",
        "    Q1 = df[column_name].quantile(0.25)\n",
        "    Q3 = df[column_name].quantile(0.75)\n",
        "    IQR = Q3 - Q1\n",
        "    upper_bound = Q3 + 1.5 * IQR\n",
        "    lower_bound = Q1 - 1.5 * IQR\n",
        "\n",
        "    # Remove outliers from the specified column\n",
        "    df = df[((df[column_name] >= lower_bound) & (df[column_name] <= upper_bound)) | (df[column_name].isnull())]\n",
        "    \n",
        "    return df"
      ]
    },
    {
      "cell_type": "code",
      "execution_count": 74,
      "metadata": {
        "id": "_rcpmVcejfgJ"
      },
      "outputs": [],
      "source": [
        "slice_df = remove_outliers(slice_df, 'Experience')\n",
        "slice_df = remove_outliers(slice_df, 'New Salary')"
      ]
    },
    {
      "cell_type": "code",
      "execution_count": 75,
      "metadata": {
        "id": "NkHNNMQRTov7"
      },
      "outputs": [],
      "source": [
        "slice_df = slice_df.dropna(subset=['Experience', 'New Salary'], how='all')"
      ]
    },
    {
      "cell_type": "code",
      "execution_count": 76,
      "metadata": {
        "id": "G5m5vtW2JtYS"
      },
      "outputs": [],
      "source": [
        "# Replacing back from 0 to NaN so that it can be imputed using linear regression\n",
        "slice_df['New Salary'] = slice_df['New Salary'].replace(0.0, np.nan)"
      ]
    },
    {
      "cell_type": "code",
      "execution_count": 77,
      "metadata": {
        "colab": {
          "base_uri": "https://localhost:8080/",
          "height": 904
        },
        "id": "7aYuCpf-ElR_",
        "outputId": "5a9bbc86-1a24-47e2-e90c-9b375f23f482"
      },
      "outputs": [
        {
          "data": {
            "text/html": [
              "<div>\n",
              "<style scoped>\n",
              "    .dataframe tbody tr th:only-of-type {\n",
              "        vertical-align: middle;\n",
              "    }\n",
              "\n",
              "    .dataframe tbody tr th {\n",
              "        vertical-align: top;\n",
              "    }\n",
              "\n",
              "    .dataframe thead th {\n",
              "        text-align: right;\n",
              "    }\n",
              "</style>\n",
              "<table border=\"1\" class=\"dataframe\">\n",
              "  <thead>\n",
              "    <tr style=\"text-align: right;\">\n",
              "      <th></th>\n",
              "      <th>Job</th>\n",
              "      <th>Location</th>\n",
              "      <th>Salary</th>\n",
              "      <th>Experience</th>\n",
              "      <th>Job_Pos</th>\n",
              "      <th>Lower Salary</th>\n",
              "      <th>Upper Salary</th>\n",
              "      <th>New Salary</th>\n",
              "    </tr>\n",
              "  </thead>\n",
              "  <tbody>\n",
              "    <tr>\n",
              "      <th>0</th>\n",
              "      <td>Junior Graphics Designer</td>\n",
              "      <td>Remote</td>\n",
              "      <td>20000.00-30000.00</td>\n",
              "      <td>1.0</td>\n",
              "      <td>1</td>\n",
              "      <td>20000.0</td>\n",
              "      <td>30000.0</td>\n",
              "      <td>25000.0</td>\n",
              "    </tr>\n",
              "    <tr>\n",
              "      <th>1</th>\n",
              "      <td>Junior Product Designer</td>\n",
              "      <td>Philippines</td>\n",
              "      <td>30000</td>\n",
              "      <td>1.5</td>\n",
              "      <td>1</td>\n",
              "      <td>30000.0</td>\n",
              "      <td>0.0</td>\n",
              "      <td>30000.0</td>\n",
              "    </tr>\n",
              "    <tr>\n",
              "      <th>3</th>\n",
              "      <td>Junior Software Engineers</td>\n",
              "      <td>Remote in Makati</td>\n",
              "      <td>NaN</td>\n",
              "      <td>1.5</td>\n",
              "      <td>1</td>\n",
              "      <td>0.0</td>\n",
              "      <td>0.0</td>\n",
              "      <td>NaN</td>\n",
              "    </tr>\n",
              "    <tr>\n",
              "      <th>4</th>\n",
              "      <td>Junior Enterprise Growth Consultant (Work From...</td>\n",
              "      <td>Remote</td>\n",
              "      <td>50000.00-70000.00</td>\n",
              "      <td>1.5</td>\n",
              "      <td>1</td>\n",
              "      <td>50000.0</td>\n",
              "      <td>70000.0</td>\n",
              "      <td>60000.0</td>\n",
              "    </tr>\n",
              "    <tr>\n",
              "      <th>5</th>\n",
              "      <td>Junior Operations Associate</td>\n",
              "      <td>Remote in Manila</td>\n",
              "      <td>28000-53000</td>\n",
              "      <td>1.5</td>\n",
              "      <td>1</td>\n",
              "      <td>28000.0</td>\n",
              "      <td>53000.0</td>\n",
              "      <td>40500.0</td>\n",
              "    </tr>\n",
              "    <tr>\n",
              "      <th>...</th>\n",
              "      <td>...</td>\n",
              "      <td>...</td>\n",
              "      <td>...</td>\n",
              "      <td>...</td>\n",
              "      <td>...</td>\n",
              "      <td>...</td>\n",
              "      <td>...</td>\n",
              "      <td>...</td>\n",
              "    </tr>\n",
              "    <tr>\n",
              "      <th>295</th>\n",
              "      <td>Chief Technology Officer | Flexible Shift - Pe...</td>\n",
              "      <td>Remote in Makati</td>\n",
              "      <td>150000.00-200000.00</td>\n",
              "      <td>5.0</td>\n",
              "      <td>4</td>\n",
              "      <td>150000.0</td>\n",
              "      <td>200000.0</td>\n",
              "      <td>175000.0</td>\n",
              "    </tr>\n",
              "    <tr>\n",
              "      <th>296</th>\n",
              "      <td>Senior Web Developer</td>\n",
              "      <td>Remote in Manila</td>\n",
              "      <td>80000.00-100000.00</td>\n",
              "      <td>NaN</td>\n",
              "      <td>4</td>\n",
              "      <td>80000.0</td>\n",
              "      <td>100000.0</td>\n",
              "      <td>90000.0</td>\n",
              "    </tr>\n",
              "    <tr>\n",
              "      <th>297</th>\n",
              "      <td>HEAD OF THE SOFTWARE DEVELOPMENT TEAM</td>\n",
              "      <td>Taguig</td>\n",
              "      <td>150000.00-200000.00</td>\n",
              "      <td>7.0</td>\n",
              "      <td>4</td>\n",
              "      <td>150000.0</td>\n",
              "      <td>200000.0</td>\n",
              "      <td>175000.0</td>\n",
              "    </tr>\n",
              "    <tr>\n",
              "      <th>298</th>\n",
              "      <td>Chief Technology Officer</td>\n",
              "      <td>Taguig</td>\n",
              "      <td>NaN</td>\n",
              "      <td>NaN</td>\n",
              "      <td>4</td>\n",
              "      <td>0.0</td>\n",
              "      <td>0.0</td>\n",
              "      <td>NaN</td>\n",
              "    </tr>\n",
              "    <tr>\n",
              "      <th>299</th>\n",
              "      <td>Chief Technology Officer (CTO)</td>\n",
              "      <td>Makati</td>\n",
              "      <td>160000</td>\n",
              "      <td>5.0</td>\n",
              "      <td>4</td>\n",
              "      <td>160000.0</td>\n",
              "      <td>0.0</td>\n",
              "      <td>160000.0</td>\n",
              "    </tr>\n",
              "  </tbody>\n",
              "</table>\n",
              "<p>284 rows × 8 columns</p>\n",
              "</div>"
            ],
            "text/plain": [
              "                                                   Job          Location  \\\n",
              "0                             Junior Graphics Designer            Remote   \n",
              "1                              Junior Product Designer       Philippines   \n",
              "3                            Junior Software Engineers  Remote in Makati   \n",
              "4    Junior Enterprise Growth Consultant (Work From...            Remote   \n",
              "5                          Junior Operations Associate  Remote in Manila   \n",
              "..                                                 ...               ...   \n",
              "295  Chief Technology Officer | Flexible Shift - Pe...  Remote in Makati   \n",
              "296                               Senior Web Developer  Remote in Manila   \n",
              "297              HEAD OF THE SOFTWARE DEVELOPMENT TEAM            Taguig   \n",
              "298                           Chief Technology Officer            Taguig   \n",
              "299                     Chief Technology Officer (CTO)            Makati   \n",
              "\n",
              "                  Salary  Experience  Job_Pos  Lower Salary  Upper Salary  \\\n",
              "0      20000.00-30000.00         1.0        1       20000.0       30000.0   \n",
              "1                  30000         1.5        1       30000.0           0.0   \n",
              "3                    NaN         1.5        1           0.0           0.0   \n",
              "4      50000.00-70000.00         1.5        1       50000.0       70000.0   \n",
              "5            28000-53000         1.5        1       28000.0       53000.0   \n",
              "..                   ...         ...      ...           ...           ...   \n",
              "295  150000.00-200000.00         5.0        4      150000.0      200000.0   \n",
              "296   80000.00-100000.00         NaN        4       80000.0      100000.0   \n",
              "297  150000.00-200000.00         7.0        4      150000.0      200000.0   \n",
              "298                  NaN         NaN        4           0.0           0.0   \n",
              "299               160000         5.0        4      160000.0           0.0   \n",
              "\n",
              "     New Salary  \n",
              "0       25000.0  \n",
              "1       30000.0  \n",
              "3           NaN  \n",
              "4       60000.0  \n",
              "5       40500.0  \n",
              "..          ...  \n",
              "295    175000.0  \n",
              "296     90000.0  \n",
              "297    175000.0  \n",
              "298         NaN  \n",
              "299    160000.0  \n",
              "\n",
              "[284 rows x 8 columns]"
            ]
          },
          "execution_count": 77,
          "metadata": {},
          "output_type": "execute_result"
        }
      ],
      "source": [
        "slice_df"
      ]
    },
    {
      "cell_type": "code",
      "execution_count": 78,
      "metadata": {
        "colab": {
          "base_uri": "https://localhost:8080/",
          "height": 467
        },
        "id": "TkNAwNo3oF6l",
        "outputId": "5c86b858-38e1-4b3e-f530-b85f8f0f265e"
      },
      "outputs": [
        {
          "data": {
            "text/html": [
              "<div>\n",
              "<style scoped>\n",
              "    .dataframe tbody tr th:only-of-type {\n",
              "        vertical-align: middle;\n",
              "    }\n",
              "\n",
              "    .dataframe tbody tr th {\n",
              "        vertical-align: top;\n",
              "    }\n",
              "\n",
              "    .dataframe thead th {\n",
              "        text-align: right;\n",
              "    }\n",
              "</style>\n",
              "<table border=\"1\" class=\"dataframe\">\n",
              "  <thead>\n",
              "    <tr style=\"text-align: right;\">\n",
              "      <th></th>\n",
              "      <th>Experience</th>\n",
              "      <th>Job_Pos</th>\n",
              "      <th>New Salary</th>\n",
              "    </tr>\n",
              "  </thead>\n",
              "  <tbody>\n",
              "    <tr>\n",
              "      <th>0</th>\n",
              "      <td>1.0</td>\n",
              "      <td>1</td>\n",
              "      <td>25000.0</td>\n",
              "    </tr>\n",
              "    <tr>\n",
              "      <th>1</th>\n",
              "      <td>1.5</td>\n",
              "      <td>1</td>\n",
              "      <td>30000.0</td>\n",
              "    </tr>\n",
              "    <tr>\n",
              "      <th>3</th>\n",
              "      <td>1.5</td>\n",
              "      <td>1</td>\n",
              "      <td>NaN</td>\n",
              "    </tr>\n",
              "    <tr>\n",
              "      <th>4</th>\n",
              "      <td>1.5</td>\n",
              "      <td>1</td>\n",
              "      <td>60000.0</td>\n",
              "    </tr>\n",
              "    <tr>\n",
              "      <th>5</th>\n",
              "      <td>1.5</td>\n",
              "      <td>1</td>\n",
              "      <td>40500.0</td>\n",
              "    </tr>\n",
              "    <tr>\n",
              "      <th>...</th>\n",
              "      <td>...</td>\n",
              "      <td>...</td>\n",
              "      <td>...</td>\n",
              "    </tr>\n",
              "    <tr>\n",
              "      <th>295</th>\n",
              "      <td>5.0</td>\n",
              "      <td>4</td>\n",
              "      <td>175000.0</td>\n",
              "    </tr>\n",
              "    <tr>\n",
              "      <th>296</th>\n",
              "      <td>NaN</td>\n",
              "      <td>4</td>\n",
              "      <td>90000.0</td>\n",
              "    </tr>\n",
              "    <tr>\n",
              "      <th>297</th>\n",
              "      <td>7.0</td>\n",
              "      <td>4</td>\n",
              "      <td>175000.0</td>\n",
              "    </tr>\n",
              "    <tr>\n",
              "      <th>298</th>\n",
              "      <td>NaN</td>\n",
              "      <td>4</td>\n",
              "      <td>NaN</td>\n",
              "    </tr>\n",
              "    <tr>\n",
              "      <th>299</th>\n",
              "      <td>5.0</td>\n",
              "      <td>4</td>\n",
              "      <td>160000.0</td>\n",
              "    </tr>\n",
              "  </tbody>\n",
              "</table>\n",
              "<p>284 rows × 3 columns</p>\n",
              "</div>"
            ],
            "text/plain": [
              "     Experience  Job_Pos  New Salary\n",
              "0           1.0        1     25000.0\n",
              "1           1.5        1     30000.0\n",
              "3           1.5        1         NaN\n",
              "4           1.5        1     60000.0\n",
              "5           1.5        1     40500.0\n",
              "..          ...      ...         ...\n",
              "295         5.0        4    175000.0\n",
              "296         NaN        4     90000.0\n",
              "297         7.0        4    175000.0\n",
              "298         NaN        4         NaN\n",
              "299         5.0        4    160000.0\n",
              "\n",
              "[284 rows x 3 columns]"
            ]
          },
          "execution_count": 78,
          "metadata": {},
          "output_type": "execute_result"
        }
      ],
      "source": [
        "slice_df = slice_df.drop(['Job', 'Location', 'Salary', 'Upper Salary', 'Lower Salary'], axis=1)\n",
        "slice_df"
      ]
    },
    {
      "attachments": {},
      "cell_type": "markdown",
      "metadata": {
        "id": "62GgjG9qKaEs"
      },
      "source": [
        "## **Missing Value Imputation using Linear Regression**"
      ]
    },
    {
      "cell_type": "code",
      "execution_count": 79,
      "metadata": {
        "id": "8-zAOQRFC6C9"
      },
      "outputs": [],
      "source": [
        "from sklearn.linear_model import LinearRegression\n",
        "\n",
        "# Select the required columns to impute values with null value present\n",
        "df = slice_df\n",
        "\n",
        "# Impute missing values for 'New Salary' column\n",
        "new_salary_missing = df['New Salary'].isnull()\n",
        "if new_salary_missing.sum() > 0:\n",
        "    # Separate the rows with valid 'New Salary' values\n",
        "    df_valid = df.loc[~new_salary_missing]\n",
        "    # Train a linear regression model for 'New Salary' column\n",
        "    regressor_new_salary = LinearRegression()\n",
        "    regressor_new_salary.fit(df_valid[['Job_Pos']], df_valid['New Salary'])\n",
        "    # Impute missing 'New Salary' values using the trained model\n",
        "    df.loc[new_salary_missing, 'New Salary'] = regressor_new_salary.predict(df.loc[new_salary_missing, ['Job_Pos']])\n",
        "\n",
        "# Impute missing values for 'Experience' column\n",
        "experience_missing = df['Experience'].isnull()\n",
        "if experience_missing.sum() > 0:\n",
        "    df_valid = df.loc[~experience_missing]\n",
        "    regressor_experience = LinearRegression()\n",
        "    regressor_experience.fit(df_valid[['Job_Pos']], df_valid['Experience'])\n",
        "    df.loc[experience_missing, 'Experience'] = regressor_experience.predict(df.loc[experience_missing, ['Job_Pos']])\n",
        "    df['Experience'] = df['Experience'].round(1)\n",
        "\n",
        "# Update the original DataFrame with imputed values\n",
        "slice_df[['New Salary', 'Experience']] = df[['New Salary', 'Experience']]"
      ]
    },
    {
      "cell_type": "code",
      "execution_count": 80,
      "metadata": {
        "colab": {
          "base_uri": "https://localhost:8080/",
          "height": 467
        },
        "id": "PPCfCoG9J5c5",
        "outputId": "ff387508-cb12-4791-dd5a-725b8d49a5d9"
      },
      "outputs": [
        {
          "data": {
            "text/html": [
              "<div>\n",
              "<style scoped>\n",
              "    .dataframe tbody tr th:only-of-type {\n",
              "        vertical-align: middle;\n",
              "    }\n",
              "\n",
              "    .dataframe tbody tr th {\n",
              "        vertical-align: top;\n",
              "    }\n",
              "\n",
              "    .dataframe thead th {\n",
              "        text-align: right;\n",
              "    }\n",
              "</style>\n",
              "<table border=\"1\" class=\"dataframe\">\n",
              "  <thead>\n",
              "    <tr style=\"text-align: right;\">\n",
              "      <th></th>\n",
              "      <th>Experience</th>\n",
              "      <th>Job_Pos</th>\n",
              "      <th>New Salary</th>\n",
              "    </tr>\n",
              "  </thead>\n",
              "  <tbody>\n",
              "    <tr>\n",
              "      <th>0</th>\n",
              "      <td>1.0</td>\n",
              "      <td>1</td>\n",
              "      <td>25000.000000</td>\n",
              "    </tr>\n",
              "    <tr>\n",
              "      <th>1</th>\n",
              "      <td>1.5</td>\n",
              "      <td>1</td>\n",
              "      <td>30000.000000</td>\n",
              "    </tr>\n",
              "    <tr>\n",
              "      <th>3</th>\n",
              "      <td>1.5</td>\n",
              "      <td>1</td>\n",
              "      <td>49804.276271</td>\n",
              "    </tr>\n",
              "    <tr>\n",
              "      <th>4</th>\n",
              "      <td>1.5</td>\n",
              "      <td>1</td>\n",
              "      <td>60000.000000</td>\n",
              "    </tr>\n",
              "    <tr>\n",
              "      <th>5</th>\n",
              "      <td>1.5</td>\n",
              "      <td>1</td>\n",
              "      <td>40500.000000</td>\n",
              "    </tr>\n",
              "    <tr>\n",
              "      <th>...</th>\n",
              "      <td>...</td>\n",
              "      <td>...</td>\n",
              "      <td>...</td>\n",
              "    </tr>\n",
              "    <tr>\n",
              "      <th>295</th>\n",
              "      <td>5.0</td>\n",
              "      <td>4</td>\n",
              "      <td>175000.000000</td>\n",
              "    </tr>\n",
              "    <tr>\n",
              "      <th>296</th>\n",
              "      <td>6.2</td>\n",
              "      <td>4</td>\n",
              "      <td>90000.000000</td>\n",
              "    </tr>\n",
              "    <tr>\n",
              "      <th>297</th>\n",
              "      <td>7.0</td>\n",
              "      <td>4</td>\n",
              "      <td>175000.000000</td>\n",
              "    </tr>\n",
              "    <tr>\n",
              "      <th>298</th>\n",
              "      <td>6.2</td>\n",
              "      <td>4</td>\n",
              "      <td>133952.238342</td>\n",
              "    </tr>\n",
              "    <tr>\n",
              "      <th>299</th>\n",
              "      <td>5.0</td>\n",
              "      <td>4</td>\n",
              "      <td>160000.000000</td>\n",
              "    </tr>\n",
              "  </tbody>\n",
              "</table>\n",
              "<p>284 rows × 3 columns</p>\n",
              "</div>"
            ],
            "text/plain": [
              "     Experience  Job_Pos     New Salary\n",
              "0           1.0        1   25000.000000\n",
              "1           1.5        1   30000.000000\n",
              "3           1.5        1   49804.276271\n",
              "4           1.5        1   60000.000000\n",
              "5           1.5        1   40500.000000\n",
              "..          ...      ...            ...\n",
              "295         5.0        4  175000.000000\n",
              "296         6.2        4   90000.000000\n",
              "297         7.0        4  175000.000000\n",
              "298         6.2        4  133952.238342\n",
              "299         5.0        4  160000.000000\n",
              "\n",
              "[284 rows x 3 columns]"
            ]
          },
          "execution_count": 80,
          "metadata": {},
          "output_type": "execute_result"
        }
      ],
      "source": [
        "slice_df"
      ]
    },
    {
      "cell_type": "code",
      "execution_count": 81,
      "metadata": {
        "id": "7DnTjMugI7gv"
      },
      "outputs": [],
      "source": [
        "# Saving our preprocessed dataset into csv for further analysis and prediction purposes \n",
        "slice_df.to_csv('Clean_Job_data.csv', index = False)"
      ]
    },
    {
      "attachments": {},
      "cell_type": "markdown",
      "metadata": {
        "id": "TpIrexdCKm_P"
      },
      "source": [
        "# **Linear Regression with Cleaned Scraped Dataset from Indeed Website**"
      ]
    },
    {
      "cell_type": "code",
      "execution_count": 82,
      "metadata": {
        "id": "zO2axE7VKAxu"
      },
      "outputs": [],
      "source": [
        "from sklearn.model_selection import train_test_split"
      ]
    },
    {
      "cell_type": "code",
      "execution_count": 83,
      "metadata": {
        "id": "opgzAjNsLPjK"
      },
      "outputs": [],
      "source": [
        "df1 = pd.read_csv('Clean_Job_data.csv')"
      ]
    },
    {
      "cell_type": "code",
      "execution_count": 84,
      "metadata": {
        "id": "MQa2mKudLBKE"
      },
      "outputs": [],
      "source": [
        "#Remove outliers again\n",
        "df1 = remove_outliers(df1, 'Experience')\n",
        "df1 = remove_outliers(df1, 'New Salary')"
      ]
    },
    {
      "cell_type": "code",
      "execution_count": 85,
      "metadata": {},
      "outputs": [],
      "source": [
        "# from sklearn.preprocessing import MinMaxScaler\n",
        "# import pandas as pd\n",
        "\n",
        "# # Create a MinMaxScaler object\n",
        "# scaler = MinMaxScaler()\n",
        "\n",
        "# # Apply the scaler to the 'New Salary' column\n",
        "# df1['New Salary'] = scaler.fit_transform(df1['New Salary'].values.reshape(-1, 1))\n",
        "\n",
        "# # Print the normalized data\n",
        "# print(df1)"
      ]
    },
    {
      "cell_type": "code",
      "execution_count": 86,
      "metadata": {
        "colab": {
          "base_uri": "https://localhost:8080/",
          "height": 467
        },
        "id": "S8LPADiwWZOG",
        "outputId": "8eac3f65-482e-4da2-f177-47051806978a"
      },
      "outputs": [
        {
          "data": {
            "text/html": [
              "<div>\n",
              "<style scoped>\n",
              "    .dataframe tbody tr th:only-of-type {\n",
              "        vertical-align: middle;\n",
              "    }\n",
              "\n",
              "    .dataframe tbody tr th {\n",
              "        vertical-align: top;\n",
              "    }\n",
              "\n",
              "    .dataframe thead th {\n",
              "        text-align: right;\n",
              "    }\n",
              "</style>\n",
              "<table border=\"1\" class=\"dataframe\">\n",
              "  <thead>\n",
              "    <tr style=\"text-align: right;\">\n",
              "      <th></th>\n",
              "      <th>Experience</th>\n",
              "      <th>Job_Pos</th>\n",
              "      <th>New Salary</th>\n",
              "    </tr>\n",
              "  </thead>\n",
              "  <tbody>\n",
              "    <tr>\n",
              "      <th>0</th>\n",
              "      <td>1.0</td>\n",
              "      <td>1</td>\n",
              "      <td>25000.000000</td>\n",
              "    </tr>\n",
              "    <tr>\n",
              "      <th>1</th>\n",
              "      <td>1.5</td>\n",
              "      <td>1</td>\n",
              "      <td>30000.000000</td>\n",
              "    </tr>\n",
              "    <tr>\n",
              "      <th>2</th>\n",
              "      <td>1.5</td>\n",
              "      <td>1</td>\n",
              "      <td>49804.276271</td>\n",
              "    </tr>\n",
              "    <tr>\n",
              "      <th>3</th>\n",
              "      <td>1.5</td>\n",
              "      <td>1</td>\n",
              "      <td>60000.000000</td>\n",
              "    </tr>\n",
              "    <tr>\n",
              "      <th>4</th>\n",
              "      <td>1.5</td>\n",
              "      <td>1</td>\n",
              "      <td>40500.000000</td>\n",
              "    </tr>\n",
              "    <tr>\n",
              "      <th>...</th>\n",
              "      <td>...</td>\n",
              "      <td>...</td>\n",
              "      <td>...</td>\n",
              "    </tr>\n",
              "    <tr>\n",
              "      <th>279</th>\n",
              "      <td>5.0</td>\n",
              "      <td>4</td>\n",
              "      <td>175000.000000</td>\n",
              "    </tr>\n",
              "    <tr>\n",
              "      <th>280</th>\n",
              "      <td>6.2</td>\n",
              "      <td>4</td>\n",
              "      <td>90000.000000</td>\n",
              "    </tr>\n",
              "    <tr>\n",
              "      <th>281</th>\n",
              "      <td>7.0</td>\n",
              "      <td>4</td>\n",
              "      <td>175000.000000</td>\n",
              "    </tr>\n",
              "    <tr>\n",
              "      <th>282</th>\n",
              "      <td>6.2</td>\n",
              "      <td>4</td>\n",
              "      <td>133952.238342</td>\n",
              "    </tr>\n",
              "    <tr>\n",
              "      <th>283</th>\n",
              "      <td>5.0</td>\n",
              "      <td>4</td>\n",
              "      <td>160000.000000</td>\n",
              "    </tr>\n",
              "  </tbody>\n",
              "</table>\n",
              "<p>275 rows × 3 columns</p>\n",
              "</div>"
            ],
            "text/plain": [
              "     Experience  Job_Pos     New Salary\n",
              "0           1.0        1   25000.000000\n",
              "1           1.5        1   30000.000000\n",
              "2           1.5        1   49804.276271\n",
              "3           1.5        1   60000.000000\n",
              "4           1.5        1   40500.000000\n",
              "..          ...      ...            ...\n",
              "279         5.0        4  175000.000000\n",
              "280         6.2        4   90000.000000\n",
              "281         7.0        4  175000.000000\n",
              "282         6.2        4  133952.238342\n",
              "283         5.0        4  160000.000000\n",
              "\n",
              "[275 rows x 3 columns]"
            ]
          },
          "execution_count": 86,
          "metadata": {},
          "output_type": "execute_result"
        }
      ],
      "source": [
        "df1"
      ]
    },
    {
      "cell_type": "code",
      "execution_count": 87,
      "metadata": {
        "id": "i_CNb9wUJ8NK"
      },
      "outputs": [],
      "source": [
        "X = df1.iloc[:, :2]\n",
        "y = df1.iloc[:,-1]"
      ]
    },
    {
      "cell_type": "code",
      "execution_count": 88,
      "metadata": {
        "id": "OLdWpwagKYj1"
      },
      "outputs": [],
      "source": [
        "X_train, X_test, y_train, y_test = train_test_split(X, y, test_size=0.25, random_state=88)"
      ]
    },
    {
      "cell_type": "code",
      "execution_count": 89,
      "metadata": {
        "id": "Fwiw2Q25Keq8"
      },
      "outputs": [],
      "source": [
        "X_train = np.array(X_train).reshape((len(X_train), 2))\n",
        "y_train = np.array(y_train).reshape((len(y_train), 1))\n",
        "\n",
        "X_test = np.array(X_test).reshape(len(X_test), 2)\n",
        "y_test = np.array(y_test).reshape(len(y_test), 1)"
      ]
    },
    {
      "cell_type": "code",
      "execution_count": 90,
      "metadata": {
        "id": "KnBj03qiKiPg"
      },
      "outputs": [],
      "source": [
        "from sklearn import linear_model"
      ]
    },
    {
      "cell_type": "code",
      "execution_count": 91,
      "metadata": {
        "colab": {
          "base_uri": "https://localhost:8080/",
          "height": 75
        },
        "id": "VbJkzicNKmAE",
        "outputId": "d9b09594-3fda-4936-aa60-2765f54b77bc"
      },
      "outputs": [
        {
          "data": {
            "text/html": [
              "<style>#sk-container-id-3 {color: black;background-color: white;}#sk-container-id-3 pre{padding: 0;}#sk-container-id-3 div.sk-toggleable {background-color: white;}#sk-container-id-3 label.sk-toggleable__label {cursor: pointer;display: block;width: 100%;margin-bottom: 0;padding: 0.3em;box-sizing: border-box;text-align: center;}#sk-container-id-3 label.sk-toggleable__label-arrow:before {content: \"▸\";float: left;margin-right: 0.25em;color: #696969;}#sk-container-id-3 label.sk-toggleable__label-arrow:hover:before {color: black;}#sk-container-id-3 div.sk-estimator:hover label.sk-toggleable__label-arrow:before {color: black;}#sk-container-id-3 div.sk-toggleable__content {max-height: 0;max-width: 0;overflow: hidden;text-align: left;background-color: #f0f8ff;}#sk-container-id-3 div.sk-toggleable__content pre {margin: 0.2em;color: black;border-radius: 0.25em;background-color: #f0f8ff;}#sk-container-id-3 input.sk-toggleable__control:checked~div.sk-toggleable__content {max-height: 200px;max-width: 100%;overflow: auto;}#sk-container-id-3 input.sk-toggleable__control:checked~label.sk-toggleable__label-arrow:before {content: \"▾\";}#sk-container-id-3 div.sk-estimator input.sk-toggleable__control:checked~label.sk-toggleable__label {background-color: #d4ebff;}#sk-container-id-3 div.sk-label input.sk-toggleable__control:checked~label.sk-toggleable__label {background-color: #d4ebff;}#sk-container-id-3 input.sk-hidden--visually {border: 0;clip: rect(1px 1px 1px 1px);clip: rect(1px, 1px, 1px, 1px);height: 1px;margin: -1px;overflow: hidden;padding: 0;position: absolute;width: 1px;}#sk-container-id-3 div.sk-estimator {font-family: monospace;background-color: #f0f8ff;border: 1px dotted black;border-radius: 0.25em;box-sizing: border-box;margin-bottom: 0.5em;}#sk-container-id-3 div.sk-estimator:hover {background-color: #d4ebff;}#sk-container-id-3 div.sk-parallel-item::after {content: \"\";width: 100%;border-bottom: 1px solid gray;flex-grow: 1;}#sk-container-id-3 div.sk-label:hover label.sk-toggleable__label {background-color: #d4ebff;}#sk-container-id-3 div.sk-serial::before {content: \"\";position: absolute;border-left: 1px solid gray;box-sizing: border-box;top: 0;bottom: 0;left: 50%;z-index: 0;}#sk-container-id-3 div.sk-serial {display: flex;flex-direction: column;align-items: center;background-color: white;padding-right: 0.2em;padding-left: 0.2em;position: relative;}#sk-container-id-3 div.sk-item {position: relative;z-index: 1;}#sk-container-id-3 div.sk-parallel {display: flex;align-items: stretch;justify-content: center;background-color: white;position: relative;}#sk-container-id-3 div.sk-item::before, #sk-container-id-3 div.sk-parallel-item::before {content: \"\";position: absolute;border-left: 1px solid gray;box-sizing: border-box;top: 0;bottom: 0;left: 50%;z-index: -1;}#sk-container-id-3 div.sk-parallel-item {display: flex;flex-direction: column;z-index: 1;position: relative;background-color: white;}#sk-container-id-3 div.sk-parallel-item:first-child::after {align-self: flex-end;width: 50%;}#sk-container-id-3 div.sk-parallel-item:last-child::after {align-self: flex-start;width: 50%;}#sk-container-id-3 div.sk-parallel-item:only-child::after {width: 0;}#sk-container-id-3 div.sk-dashed-wrapped {border: 1px dashed gray;margin: 0 0.4em 0.5em 0.4em;box-sizing: border-box;padding-bottom: 0.4em;background-color: white;}#sk-container-id-3 div.sk-label label {font-family: monospace;font-weight: bold;display: inline-block;line-height: 1.2em;}#sk-container-id-3 div.sk-label-container {text-align: center;}#sk-container-id-3 div.sk-container {/* jupyter's `normalize.less` sets `[hidden] { display: none; }` but bootstrap.min.css set `[hidden] { display: none !important; }` so we also need the `!important` here to be able to override the default hidden behavior on the sphinx rendered scikit-learn.org. See: https://github.com/scikit-learn/scikit-learn/issues/21755 */display: inline-block !important;position: relative;}#sk-container-id-3 div.sk-text-repr-fallback {display: none;}</style><div id=\"sk-container-id-3\" class=\"sk-top-container\"><div class=\"sk-text-repr-fallback\"><pre>LinearRegression()</pre><b>In a Jupyter environment, please rerun this cell to show the HTML representation or trust the notebook. <br />On GitHub, the HTML representation is unable to render, please try loading this page with nbviewer.org.</b></div><div class=\"sk-container\" hidden><div class=\"sk-item\"><div class=\"sk-estimator sk-toggleable\"><input class=\"sk-toggleable__control sk-hidden--visually\" id=\"sk-estimator-id-3\" type=\"checkbox\" checked><label for=\"sk-estimator-id-3\" class=\"sk-toggleable__label sk-toggleable__label-arrow\">LinearRegression</label><div class=\"sk-toggleable__content\"><pre>LinearRegression()</pre></div></div></div></div></div>"
            ],
            "text/plain": [
              "LinearRegression()"
            ]
          },
          "execution_count": 91,
          "metadata": {},
          "output_type": "execute_result"
        }
      ],
      "source": [
        "model = linear_model.LinearRegression()\n",
        "model.fit(X_train, y_train)"
      ]
    },
    {
      "cell_type": "code",
      "execution_count": 92,
      "metadata": {
        "colab": {
          "base_uri": "https://localhost:8080/"
        },
        "id": "uGCYuReOKrWk",
        "outputId": "72100a46-57eb-433f-9b39-257559d9099c"
      },
      "outputs": [
        {
          "data": {
            "text/plain": [
              "array([21234.22091612])"
            ]
          },
          "execution_count": 92,
          "metadata": {},
          "output_type": "execute_result"
        }
      ],
      "source": [
        "model.intercept_"
      ]
    },
    {
      "cell_type": "code",
      "execution_count": 93,
      "metadata": {
        "colab": {
          "base_uri": "https://localhost:8080/"
        },
        "id": "PlHd6pi8Ktxa",
        "outputId": "37892bb4-f1d3-49ae-ba2a-9c2c3db48239"
      },
      "outputs": [
        {
          "data": {
            "text/plain": [
              "array([[-1803.76984575, 31691.25412924]])"
            ]
          },
          "execution_count": 93,
          "metadata": {},
          "output_type": "execute_result"
        }
      ],
      "source": [
        "model.coef_"
      ]
    },
    {
      "cell_type": "code",
      "execution_count": 94,
      "metadata": {
        "colab": {
          "base_uri": "https://localhost:8080/"
        },
        "id": "J6u4SrpqKwrL",
        "outputId": "42b528bc-de8d-48cd-a890-90dc98378d8c"
      },
      "outputs": [
        {
          "data": {
            "text/plain": [
              "0.8034612959926593"
            ]
          },
          "execution_count": 94,
          "metadata": {},
          "output_type": "execute_result"
        }
      ],
      "source": [
        "model.score(X_train, y_train)"
      ]
    },
    {
      "cell_type": "code",
      "execution_count": 95,
      "metadata": {
        "id": "cQptfyL9KzVM"
      },
      "outputs": [],
      "source": [
        "y_pred = model.predict(X_test)"
      ]
    },
    {
      "cell_type": "code",
      "execution_count": 96,
      "metadata": {},
      "outputs": [
        {
          "data": {
            "text/html": [
              "<div>\n",
              "<style scoped>\n",
              "    .dataframe tbody tr th:only-of-type {\n",
              "        vertical-align: middle;\n",
              "    }\n",
              "\n",
              "    .dataframe tbody tr th {\n",
              "        vertical-align: top;\n",
              "    }\n",
              "\n",
              "    .dataframe thead th {\n",
              "        text-align: right;\n",
              "    }\n",
              "</style>\n",
              "<table border=\"1\" class=\"dataframe\">\n",
              "  <thead>\n",
              "    <tr style=\"text-align: right;\">\n",
              "      <th></th>\n",
              "      <th>Experience</th>\n",
              "      <th>Job_Pos</th>\n",
              "      <th>New Salary</th>\n",
              "    </tr>\n",
              "  </thead>\n",
              "  <tbody>\n",
              "    <tr>\n",
              "      <th>0</th>\n",
              "      <td>1.0</td>\n",
              "      <td>1</td>\n",
              "      <td>25000.000000</td>\n",
              "    </tr>\n",
              "    <tr>\n",
              "      <th>1</th>\n",
              "      <td>1.5</td>\n",
              "      <td>1</td>\n",
              "      <td>30000.000000</td>\n",
              "    </tr>\n",
              "    <tr>\n",
              "      <th>2</th>\n",
              "      <td>1.5</td>\n",
              "      <td>1</td>\n",
              "      <td>49804.276271</td>\n",
              "    </tr>\n",
              "    <tr>\n",
              "      <th>3</th>\n",
              "      <td>1.5</td>\n",
              "      <td>1</td>\n",
              "      <td>60000.000000</td>\n",
              "    </tr>\n",
              "    <tr>\n",
              "      <th>4</th>\n",
              "      <td>1.5</td>\n",
              "      <td>1</td>\n",
              "      <td>40500.000000</td>\n",
              "    </tr>\n",
              "    <tr>\n",
              "      <th>...</th>\n",
              "      <td>...</td>\n",
              "      <td>...</td>\n",
              "      <td>...</td>\n",
              "    </tr>\n",
              "    <tr>\n",
              "      <th>279</th>\n",
              "      <td>5.0</td>\n",
              "      <td>4</td>\n",
              "      <td>175000.000000</td>\n",
              "    </tr>\n",
              "    <tr>\n",
              "      <th>280</th>\n",
              "      <td>6.2</td>\n",
              "      <td>4</td>\n",
              "      <td>90000.000000</td>\n",
              "    </tr>\n",
              "    <tr>\n",
              "      <th>281</th>\n",
              "      <td>7.0</td>\n",
              "      <td>4</td>\n",
              "      <td>175000.000000</td>\n",
              "    </tr>\n",
              "    <tr>\n",
              "      <th>282</th>\n",
              "      <td>6.2</td>\n",
              "      <td>4</td>\n",
              "      <td>133952.238342</td>\n",
              "    </tr>\n",
              "    <tr>\n",
              "      <th>283</th>\n",
              "      <td>5.0</td>\n",
              "      <td>4</td>\n",
              "      <td>160000.000000</td>\n",
              "    </tr>\n",
              "  </tbody>\n",
              "</table>\n",
              "<p>275 rows × 3 columns</p>\n",
              "</div>"
            ],
            "text/plain": [
              "     Experience  Job_Pos     New Salary\n",
              "0           1.0        1   25000.000000\n",
              "1           1.5        1   30000.000000\n",
              "2           1.5        1   49804.276271\n",
              "3           1.5        1   60000.000000\n",
              "4           1.5        1   40500.000000\n",
              "..          ...      ...            ...\n",
              "279         5.0        4  175000.000000\n",
              "280         6.2        4   90000.000000\n",
              "281         7.0        4  175000.000000\n",
              "282         6.2        4  133952.238342\n",
              "283         5.0        4  160000.000000\n",
              "\n",
              "[275 rows x 3 columns]"
            ]
          },
          "execution_count": 96,
          "metadata": {},
          "output_type": "execute_result"
        }
      ],
      "source": [
        "df1"
      ]
    },
    {
      "cell_type": "code",
      "execution_count": 97,
      "metadata": {
        "colab": {
          "base_uri": "https://localhost:8080/"
        },
        "id": "RSNpovInK110",
        "outputId": "46ac0637-95fa-4b28-958e-34933bb761bc"
      },
      "outputs": [
        {
          "name": "stdout",
          "output_type": "stream",
          "text": [
            "                            OLS Regression Results                            \n",
            "==============================================================================\n",
            "Dep. Variable:                      y   R-squared:                       0.643\n",
            "Model:                            OLS   Adj. R-squared:                  0.632\n",
            "Method:                 Least Squares   F-statistic:                     59.33\n",
            "Date:                Thu, 18 May 2023   Prob (F-statistic):           1.80e-15\n",
            "Time:                        21:31:06   Log-Likelihood:                -784.02\n",
            "No. Observations:                  69   AIC:                             1574.\n",
            "Df Residuals:                      66   BIC:                             1581.\n",
            "Df Model:                           2                                         \n",
            "Covariance Type:            nonrobust                                         \n",
            "==============================================================================\n",
            "                 coef    std err          t      P>|t|      [0.025      0.975]\n",
            "------------------------------------------------------------------------------\n",
            "const       2.802e+04   6225.661      4.501      0.000    1.56e+04    4.05e+04\n",
            "x1         -4645.0794   2002.243     -2.320      0.023   -8642.686    -647.473\n",
            "x2          3.107e+04   3612.606      8.599      0.000    2.39e+04    3.83e+04\n",
            "==============================================================================\n",
            "Omnibus:                       53.239   Durbin-Watson:                   2.176\n",
            "Prob(Omnibus):                  0.000   Jarque-Bera (JB):              280.668\n",
            "Skew:                          -2.192   Prob(JB):                     1.13e-61\n",
            "Kurtosis:                      11.854   Cond. No.                         13.0\n",
            "==============================================================================\n",
            "\n",
            "Notes:\n",
            "[1] Standard Errors assume that the covariance matrix of the errors is correctly specified.\n"
          ]
        }
      ],
      "source": [
        "# Analysis Variance of the model\n",
        "import statsmodels.api as sm\n",
        "\n",
        "# Using ANOVA to analyse the model variance \n",
        "X_tests = sm.add_constant(X_test)\n",
        "anova_model = sm.OLS(y_test, X_tests)\n",
        "results = anova_model.fit()\n",
        "\n",
        "print(results.summary())"
      ]
    },
    {
      "cell_type": "code",
      "execution_count": 98,
      "metadata": {
        "id": "zBlg2rM1K5Zk"
      },
      "outputs": [],
      "source": [
        "import seaborn as sns\n",
        "import matplotlib.pyplot as plt"
      ]
    },
    {
      "cell_type": "code",
      "execution_count": 99,
      "metadata": {
        "colab": {
          "base_uri": "https://localhost:8080/",
          "height": 229
        },
        "id": "3OzQFz3NK8JI",
        "outputId": "27475279-4611-45da-ee3e-f9a5b1b5edf9"
      },
      "outputs": [
        {
          "data": {
            "image/png": "[encoded data removed]",
            "text/plain": [
              "<Figure size 640x480 with 1 Axes>"
            ]
          },
          "metadata": {},
          "output_type": "display_data"
        }
      ],
      "source": [
        "plt.figure(10.5)\n",
        "sns.regplot(x=X_test[:, 1], y=y_pred, scatter_kws={'color': 'red'})\n",
        "plt.show()"
      ]
    },
    {
      "attachments": {},
      "cell_type": "markdown",
      "metadata": {
        "id": "2InmVn7MLo_O"
      },
      "source": [
        "# **Model Dumping using Pickle**"
      ]
    },
    {
      "cell_type": "code",
      "execution_count": 100,
      "metadata": {
        "id": "nuOTfEhQp__N"
      },
      "outputs": [],
      "source": [
        "import pickle"
      ]
    },
    {
      "cell_type": "code",
      "execution_count": 101,
      "metadata": {
        "id": "LixJkVgzqC-e"
      },
      "outputs": [],
      "source": [
        "pickle.dump(model, open('linreg_model.pkl', 'wb'))"
      ]
    },
    {
      "cell_type": "code",
      "execution_count": 102,
      "metadata": {
        "id": "LjLX-CDpqDoa"
      },
      "outputs": [],
      "source": [
        "model_dump = pickle.load(open('linreg_model.pkl', 'rb'))"
      ]
    },
    {
      "cell_type": "code",
      "execution_count": 103,
      "metadata": {
        "colab": {
          "base_uri": "https://localhost:8080/"
        },
        "id": "G3fvAd4KqJh6",
        "outputId": "4c9d9921-0894-4f28-8d1d-8993af46780a"
      },
      "outputs": [
        {
          "name": "stdout",
          "output_type": "stream",
          "text": [
            "[[3188195.11002543]]\n"
          ]
        }
      ],
      "source": [
        "print(model.predict([[1.2, 100]]))"
      ]
    },
    {
      "cell_type": "code",
      "execution_count": 104,
      "metadata": {},
      "outputs": [
        {
          "name": "stdout",
          "output_type": "stream",
          "text": [
            "1.2.2\n"
          ]
        }
      ],
      "source": [
        "import sklearn\n",
        "print(sklearn.__version__)"
      ]
    }
  ],
  "metadata": {
    "colab": {
      "provenance": []
    },
    "kernelspec": {
      "display_name": "Python 3",
      "name": "python3"
    },
    "language_info": {
      "codemirror_mode": {
        "name": "ipython",
        "version": 3
      },
      "file_extension": ".py",
      "mimetype": "text/x-python",
      "name": "python",
      "nbconvert_exporter": "python",
      "pygments_lexer": "ipython3",
      "version": "3.11.2"
    }
  },
  "nbformat": 4,
  "nbformat_minor": 0
}
